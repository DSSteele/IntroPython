{
  "nbformat": 4,
  "nbformat_minor": 0,
  "metadata": {
    "colab": {
      "provenance": [],
      "authorship_tag": "ABX9TyO+J5lLgEFbPUIYq7AOK0K6",
      "include_colab_link": true
    },
    "kernelspec": {
      "name": "python3",
      "display_name": "Python 3"
    },
    "language_info": {
      "name": "python"
    }
  },
  "cells": [
    {
      "cell_type": "markdown",
      "metadata": {
        "id": "view-in-github",
        "colab_type": "text"
      },
      "source": [
        "<a href=\"https://colab.research.google.com/github/DSSteele/IntroPython/blob/main/PythonBasics.ipynb\" target=\"_parent\"><img src=\"https://colab.research.google.com/assets/colab-badge.svg\" alt=\"Open In Colab\"/></a>"
      ]
    },
    {
      "cell_type": "code",
      "execution_count": null,
      "metadata": {
        "colab": {
          "base_uri": "https://localhost:8080/"
        },
        "id": "OASHz6W-4wbH",
        "outputId": "59c1238c-8769-41fc-cbe3-2ae5343c2aaf"
      },
      "outputs": [
        {
          "output_type": "stream",
          "name": "stdout",
          "text": [
            "Hello World!\n"
          ]
        }
      ],
      "source": [
        "print('Hello World!')"
      ]
    },
    {
      "cell_type": "markdown",
      "source": [
        "### This Notebok Shows Python Basics\n",
        "\n",
        "Colab & Jupyter provide the ability to make **notebooks**. Notebooks allow you to create *text* and *code* cells. Text cells support MarkDown. Code cells requie Python.\n",
        "\n",
        "**Python Datatypes**\n",
        "* int\n",
        "* str\n",
        "* float\n",
        "* bool"
      ],
      "metadata": {
        "id": "GFi8hF6E9OEV"
      }
    },
    {
      "cell_type": "code",
      "source": [
        "x = 5           # int\n",
        "s = 'hello'     # str\n",
        "temp = 98.6     # float\n",
        "iAmSam = False  # bool"
      ],
      "metadata": {
        "id": "wGK1GsWANBqp"
      },
      "execution_count": null,
      "outputs": []
    },
    {
      "cell_type": "markdown",
      "source": [
        "**Python Collection Types**\n",
        "* list - ordered, indexed, like an array, mutable\n",
        "* tuple - immutable list\n",
        "* dict - a hashtable, a set of key:value data pairs"
      ],
      "metadata": {
        "id": "BbxwAj_ZNi5X"
      }
    },
    {
      "cell_type": "code",
      "source": [
        "my_list = ['I', 'love', 'CIS']\n",
        "my_list2 = [3, 'hello', 'frogs', 4.3, True]\n",
        "my_tuple = ('Purple', 'Eagles')\n",
        "\n",
        "example_dict = {'triangle':3, 'square':4, 'septagon':7}\n",
        "example_dict['decagon'] = 10\n",
        "print(example_dict['septagon'])"
      ],
      "metadata": {
        "colab": {
          "base_uri": "https://localhost:8080/"
        },
        "id": "0WW3uZgXOKTC",
        "outputId": "9959ba39-04ad-4dd4-ca16-ba7621518786"
      },
      "execution_count": null,
      "outputs": [
        {
          "output_type": "stream",
          "name": "stdout",
          "text": [
            "7\n"
          ]
        }
      ]
    },
    {
      "cell_type": "markdown",
      "source": [
        "### AI AGENT NOTES\n",
        "\n",
        "**The representation problem** - how to represent a problem in a programming language.\n",
        "\n",
        "**PEAS**\n",
        "\n",
        "* Performance measure\n",
        "* Environment\n",
        "  * includes **state** and\n",
        "  * rules for how **actions** update the state\n",
        "* Actions\n",
        "* Sensors\n",
        "\n",
        "continuous vs discreet\n",
        "\n",
        "#### Example: Farmer, Wolf, Sheep, Oats, River problem"
      ],
      "metadata": {
        "id": "x988xFjHB9wV"
      }
    },
    {
      "cell_type": "code",
      "source": [
        "#STATE\n",
        "farmer_on_top = True\n",
        "wolf_on_top = True\n",
        "sheep_on_top = True\n",
        "oats_on_top = True\n",
        "\n",
        "oats_intact = True\n",
        "sheep_alive = True\n",
        "def print_state():\n",
        "  \"\"\" Prints all the parties on top of the river bank, followed by =======,\n",
        "  then all parties below the river bank \"\"\"\n",
        "  if farmer_on_top == True:\n",
        "    print('FARMER')\n",
        "  if wolf_on_top:\n",
        "    print(\"WOLF\")\n",
        "  if sheep_on_top:\n",
        "    print('SHEEP')\n",
        "  print('OATS' if oats_on_top else '')\n",
        "  print('==============')\n",
        "  if farmer_on_top != True:\n",
        "    print('FARMER')\n",
        "  if not wolf_on_top:\n",
        "    print(\"WOLF\")\n",
        "  if not sheep_on_top:\n",
        "    print('SHEEP')\n",
        "  print('OATS' if not oats_on_top else '')\n",
        "\n",
        "# ACTIONS\n",
        "\n",
        "def move(thing):\n",
        "  \"\"\" Updates STATE variables given that the farmer moves thing.\n",
        "  thing must be one of ['wolf', 'sheep', 'oats', ''].\n",
        "  Returns False if move is illegal. Returns True if state updated. \"\"\"\n",
        "\n",
        "  # Verify if move is legal\n",
        "  if thing not in ['wolf', 'sheep', 'oats', '']:\n",
        "    print('ILLEGAL MOVE')\n",
        "    return False\n",
        "\n",
        "  if thing == 'sheep':\n",
        "    # Check if farmer and sheep are on different sides\n",
        "    move_legal = farmer_on_top == sheep_on_top\n",
        "\n",
        "\n",
        "\n",
        "##############\n",
        "print_state()"
      ],
      "metadata": {
        "id": "BusNCP1YCaMa",
        "colab": {
          "base_uri": "https://localhost:8080/"
        },
        "outputId": "93a8cd07-e82d-40c4-e551-7ffabab9fd9b"
      },
      "execution_count": 1,
      "outputs": [
        {
          "output_type": "stream",
          "name": "stdout",
          "text": [
            "FARMER\n",
            "WOLF\n",
            "SHEEP\n",
            "OATS\n",
            "==============\n",
            "\n"
          ]
        }
      ]
    }
  ]
}