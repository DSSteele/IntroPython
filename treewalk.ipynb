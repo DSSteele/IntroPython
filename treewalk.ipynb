{
  "nbformat": 4,
  "nbformat_minor": 0,
  "metadata": {
    "colab": {
      "provenance": [],
      "authorship_tag": "ABX9TyNUDwafLrz0RvM1vYYcngyZ",
      "include_colab_link": true
    },
    "kernelspec": {
      "name": "python3",
      "display_name": "Python 3"
    },
    "language_info": {
      "name": "python"
    }
  },
  "cells": [
    {
      "cell_type": "markdown",
      "metadata": {
        "id": "view-in-github",
        "colab_type": "text"
      },
      "source": [
        "<a href=\"https://colab.research.google.com/github/DSSteele/IntroPython/blob/main/treewalk.ipynb\" target=\"_parent\"><img src=\"https://colab.research.google.com/assets/colab-badge.svg\" alt=\"Open In Colab\"/></a>"
      ]
    },
    {
      "cell_type": "markdown",
      "source": [
        "### Definitions for Trees\n",
        "**Tree:** a directed graph data structure made of nodes. Each node having exactly 1 parent, except for the root node, which has 0 parents. Each node may have 0 or more children.\n",
        "\n",
        "**Root:** topmost node that has no parent.\n",
        "\n",
        "**Leaf:** a tree node with no children.\n",
        "\n",
        "**Child:** a node's children are nodes for which it has a direct child reference.\n",
        "\n",
        "**N-ary tree:** a tree in which each node can have a variable number of children."
      ],
      "metadata": {
        "id": "mcPCRkKSuYcg"
      }
    },
    {
      "cell_type": "code",
      "execution_count": null,
      "metadata": {
        "id": "sqIV1Nlxs2Hf"
      },
      "outputs": [],
      "source": []
    }
  ]
}